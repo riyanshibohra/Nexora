{
 "cells": [
  {
   "cell_type": "code",
   "execution_count": 1,
   "id": "b54ce88c",
   "metadata": {},
   "outputs": [
    {
     "data": {
      "text/plain": [
       "True"
      ]
     },
     "execution_count": 1,
     "metadata": {},
     "output_type": "execute_result"
    }
   ],
   "source": [
    "import os\n",
    "from dotenv import load_dotenv\n",
    "\n",
    "load_dotenv()"
   ]
  },
  {
   "cell_type": "code",
   "execution_count": 2,
   "id": "7f74a406",
   "metadata": {},
   "outputs": [],
   "source": [
    "from kaggle.api.kaggle_api_extended import KaggleApi\n",
    "import os\n",
    "import re\n",
    "from pathlib import Path\n",
    "from typing import List\n",
    "from langchain_openai import ChatOpenAI\n",
    "from tavily import TavilyClient\n",
    "\n",
    "from pydantic import BaseModel, Field\n",
    "\n",
    "from typing import TypedDict, List, Any, Optional, Dict\n",
    "from typing import Annotated, Literal\n",
    "from operator import add"
   ]
  },
  {
   "cell_type": "code",
   "execution_count": 3,
   "id": "1034cef7",
   "metadata": {},
   "outputs": [],
   "source": [
    "OPEN_API_KEY = os.getenv('OPEN_API_KEY')\n",
    "\n",
    "LANGSMITH_TRACING = os.getenv('LANGSMITH_TRACING')\n",
    "LANGSMITH_API_KEY = os.getenv('LANGSMITH_API_KEY')\n",
    "LANGSMITH_PROJECT = os.getenv('LANGSMITH_PROJECT')\n",
    "LANGSMITH_ENDPOINT = os.getenv('LANGSMITH_ENDPOINT')\n",
    "\n",
    "TAVILY_API_KEY = os.getenv('TAVILY_API_KEY')"
   ]
  },
  {
   "cell_type": "code",
   "execution_count": 4,
   "id": "ff44dec3",
   "metadata": {},
   "outputs": [],
   "source": [
    "\n",
    "llm = ChatOpenAI(model=\"gpt-4o\", temperature=0)"
   ]
  },
  {
   "cell_type": "code",
   "execution_count": 5,
   "id": "e1001c61",
   "metadata": {},
   "outputs": [],
   "source": [
    "\n",
    "# Initialize Tavily client\n",
    "tavily_client = TavilyClient(api_key=TAVILY_API_KEY)"
   ]
  },
  {
   "cell_type": "code",
   "execution_count": 6,
   "id": "61e28e1c",
   "metadata": {},
   "outputs": [],
   "source": [
    "class TavilySearchOutput(BaseModel):\n",
    "    title: str\n",
    "    url: str\n",
    "    content: str\n"
   ]
  },
  {
   "cell_type": "code",
   "execution_count": 7,
   "id": "fd1c54ee",
   "metadata": {},
   "outputs": [],
   "source": [
    "class FileRecord(BaseModel):\n",
    "    path: str\n",
    "    rel_path: str\n",
    "    ext: str\n",
    "\n",
    "class DownloadedDataset(BaseModel):\n",
    "    source_url: str\n",
    "    source_id: str\n",
    "    display_name: Optional[str] = None\n",
    "    dest_dir: str\n",
    "    files: List[FileRecord]\n",
    "    meta: Dict[str, Any] = Field(default_factory=dict)\n",
    "\n",
    "\n",
    "class SourcingAgentState(TypedDict):\n",
    "    query: str\n",
    "    tavilySearchOutput: List[TavilySearchOutput]\n",
    "    status: Annotated[List[str], add]\n",
    "    download_results: Annotated[List[DownloadedDataset], add]\n"
   ]
  },
  {
   "cell_type": "code",
   "execution_count": 8,
   "id": "20cfcbc1",
   "metadata": {},
   "outputs": [],
   "source": [
    "# This function takes your search term, looks it up on dataset-heavy sites, filters duplicates, and returns a clean list of dataset pages.\n",
    "\n",
    "def tavily_search_tool(state: SourcingAgentState):\n",
    "    \"\"\"Search Kaggle only and return up to 10 most relevant, deduped dataset links.\"\"\"\n",
    "    query = state[\"query\"]\n",
    "\n",
    "    site_queries = {\n",
    "        \"kaggle\": f\"{query} dataset site:kaggle.com/datasets\"\n",
    "    }\n",
    "\n",
    "    def which_site(url: str) -> str | None:\n",
    "        u = url.lower()\n",
    "        if \"kaggle.com/datasets/\" in u:\n",
    "            return \"kaggle\"\n",
    "        return None\n",
    "\n",
    "    def relevance_score(site: str, title: str, url: str, content: str) -> float:\n",
    "        t = (title or \"\").lower()\n",
    "        u = (url or \"\").lower()\n",
    "        c = (content or \"\").lower()\n",
    "        score = 0.0\n",
    "        if any(x in u for x in [\".csv\", \".xlsx\", \".json\", \"/download\", \"/raw/\"]):\n",
    "            score += 3.0\n",
    "        if any(x in c for x in [\"csv\", \"xlsx\", \"json\", \"download\"]):\n",
    "            score += 2.0\n",
    "        for tok in set(query.lower().split()):\n",
    "            if tok and (tok in t or tok in c):\n",
    "                score += 0.5\n",
    "        if site == \"kaggle\":\n",
    "            score += 0.5\n",
    "        return score\n",
    "\n",
    "    candidates: list[tuple[str, TavilySearchOutput, float]] = []\n",
    "    seen_urls: set[str] = set()\n",
    "\n",
    "    # Collect per-site, compute scores (Kaggle only)\n",
    "    for site, q in site_queries.items():\n",
    "        try:\n",
    "            r = tavily_client.search(query=q, search_depth=\"basic\", max_results=15)\n",
    "        except Exception:\n",
    "            continue\n",
    "        if not isinstance(r, dict) or \"results\" not in r:\n",
    "            continue\n",
    "        for h in r[\"results\"]:\n",
    "            url = h.get(\"url\", \"\") if isinstance(h, dict) else \"\"\n",
    "            site_name = which_site(url) if url else None\n",
    "            if site_name is None:\n",
    "                continue\n",
    "            if url in seen_urls:\n",
    "                continue\n",
    "            seen_urls.add(url)\n",
    "            title = h.get(\"title\", \"\")\n",
    "            content = h.get(\"content\", \"\")\n",
    "            tso = TavilySearchOutput(title=title, url=url, content=content)\n",
    "            score = relevance_score(site_name, title, url, content)\n",
    "            candidates.append((site_name, tso, score))\n",
    "\n",
    "    candidates.sort(key=lambda x: x[2], reverse=True)\n",
    "\n",
    "    selected: list[TavilySearchOutput] = []\n",
    "    used_urls: set[str] = set()\n",
    "\n",
    "    for _, tso, _ in candidates:\n",
    "        if len(selected) >= 10:\n",
    "            break\n",
    "        if tso.url in used_urls:\n",
    "            continue\n",
    "        selected.append(tso)\n",
    "        used_urls.add(tso.url)\n",
    "\n",
    "    return { \"tavilySearchOutput\": selected, \"status\": [\"Gathered Kaggle urls\"] }"
   ]
  },
  {
   "cell_type": "markdown",
   "id": "dca55ff8",
   "metadata": {},
   "source": [
    "# Get datasest from Kaggle"
   ]
  },
  {
   "cell_type": "markdown",
   "id": "146ff5ca",
   "metadata": {},
   "source": [
    "## Tool to download Kaggle Files: download_kaggle_files"
   ]
  },
  {
   "cell_type": "code",
   "execution_count": 9,
   "id": "fbb6027f",
   "metadata": {},
   "outputs": [],
   "source": [
    "def download_kaggle_files(state: SourcingAgentState, data_dir: str = './data') -> dict:\n",
    "    \"\"\"\n",
    "    Download each Kaggle URL into its own folder and return structured bundles for UI/analysis.\n",
    "    \"\"\"\n",
    "\n",
    "    urls = [tso.url for tso in state['tavilySearchOutput']]\n",
    "\n",
    "    api = KaggleApi()\n",
    "    api.authenticate()\n",
    "\n",
    "    base_dir = Path(data_dir) / 'kaggle'\n",
    "    base_dir.mkdir(parents=True, exist_ok=True)\n",
    "\n",
    "    def sanitize_slug(slug: str) -> str:\n",
    "        # 'owner/name' -> 'owner__name' and strip unsafe chars\n",
    "        return re.sub(r'[^a-zA-Z0-9._-]+', '_', slug.replace('/', '__'))\n",
    "\n",
    "    bundles: List[DownloadedDataset] = []\n",
    "\n",
    "    for url in urls:\n",
    "        # Extract dataset slug from URL\n",
    "        m = re.search(r'kaggle\\.com/datasets/([^/]+/[^/?#]+)', url)\n",
    "        if not m:\n",
    "            continue\n",
    "        slug = m.group(1)\n",
    "        owner = slug.split('/')[0]\n",
    "        name = slug.split('/')[-1]\n",
    "\n",
    "        dest_dir = base_dir / sanitize_slug(slug)\n",
    "        dest_dir.mkdir(parents=True, exist_ok=True)\n",
    "\n",
    "        api.dataset_download_files(\n",
    "            slug,\n",
    "            path=str(dest_dir),\n",
    "            force=False,\n",
    "            quiet=True,\n",
    "            unzip=True\n",
    "        )\n",
    "\n",
    "        files: List[FileRecord] = []\n",
    "        for p in dest_dir.rglob('*'):\n",
    "            if p.is_file():\n",
    "                try:\n",
    "                    size = p.stat().st_size\n",
    "                except Exception:\n",
    "                    size = 0\n",
    "                files.append(FileRecord(\n",
    "                    path=str(p.resolve()),\n",
    "                    rel_path=str(p.relative_to(dest_dir)),\n",
    "                    ext=p.suffix.lower(),\n",
    "                ))\n",
    "\n",
    "        bundles.append(DownloadedDataset(\n",
    "            source_url=url,\n",
    "            source_id=slug,\n",
    "            display_name=name,\n",
    "            dest_dir=str(dest_dir.resolve()),\n",
    "            files=files,\n",
    "            meta={\n",
    "                'owner': owner,\n",
    "                'num_files': len(files),\n",
    "            }\n",
    "        ))\n",
    "\n",
    "    return {\"download_results\": bundles, \"status\": [\"Downloaded Kaggle bundles\"]}\n"
   ]
  },
  {
   "cell_type": "code",
   "execution_count": 10,
   "id": "36f2bdb8",
   "metadata": {},
   "outputs": [],
   "source": [
    "def end_agent(state: SourcingAgentState):\n",
    "    return state\n"
   ]
  },
  {
   "cell_type": "code",
   "execution_count": 11,
   "id": "d9389c93",
   "metadata": {},
   "outputs": [
    {
     "data": {
      "image/png": "[encoded data removed]",
      "text/plain": [
       "<IPython.core.display.Image object>"
      ]
     },
     "metadata": {},
     "output_type": "display_data"
    }
   ],
   "source": [
    "from langgraph.graph import StateGraph, START, END\n",
    "\n",
    "graph = StateGraph(SourcingAgentState)\n",
    "\n",
    "graph.add_node(\"tavily_search\", tavily_search_tool)\n",
    "graph.add_node(\"download_kaggle_files\", download_kaggle_files)\n",
    "graph.add_node(\"end_agent\", end_agent)\n",
    "\n",
    "graph.add_edge(START, \"tavily_search\")\n",
    "graph.add_edge(\"tavily_search\", \"download_kaggle_files\")\n",
    "graph.add_edge(\"download_kaggle_files\", \"end_agent\")\n",
    "\n",
    "final_graph = graph.compile()\n",
    "\n",
    "from IPython.display import Image, display\n",
    "display(Image(final_graph.get_graph().draw_mermaid_png()))\n",
    "\n"
   ]
  },
  {
   "cell_type": "code",
   "execution_count": 12,
   "id": "c5be7654",
   "metadata": {},
   "outputs": [],
   "source": [
    "query = \"Spotify recommendation\"\n",
    "\n",
    "state = SourcingAgentState(query=query)\n"
   ]
  },
  {
   "cell_type": "code",
   "execution_count": 13,
   "id": "a1c79d74",
   "metadata": {},
   "outputs": [
    {
     "name": "stdout",
     "output_type": "stream",
     "text": [
      "{'tavily_search': {'tavilySearchOutput': [TavilySearchOutput(title='Spotify Tracks Dataset - Kaggle', url='https://www.kaggle.com/datasets/maharshipandya/-spotify-tracks-dataset', content='🎹 Spotify Tracks Dataset 🎹 Spotify Tracks Dataset 🎹 Spotify Tracks Dataset - Track by Track Commentary Say Something 70 229400 False 0.407 0.147 Image 7 Song Popularity Prediction - Spotify more_vert Updated 2 years ago 🎹 Spotify Tracks Dataset Image 11 Spotify Dataset 2022 Japan Weekly Top 200 more_vert [miz · Updated 2 years ago Usability 3.5 · 599 kB 1 File (CSV)](https://www.kaggle.com/datasets/miz100010/weekly-top-200-of-japan-in-2022-spotify-dataset) more_vert [krish sharma · Updated 10 months ago Usability 8.8 · 409 MB 1 File (other)](https://www.kaggle.com/datasets/krishsharma0413/2-million-songs-from-mpd-with-audio-features) Image 13 Spotify Tracks Genre more_vert [The Devastator · Updated 2 years ago Usability 10.0 · 9 MB 1 File (CSV)](https://www.kaggle.com/datasets/thedevastator/spotify-tracks-genre-dataset) Image 15 Streaming Activity Dataset more_vert [The Devastator · Updated 2 years ago Usability 9.4 · 4 MB 2 Files (CSV)](https://www.kaggle.com/datasets/thedevastator/streaming-activity-dataset)'), TavilySearchOutput(title='Spotify Most Popular Songs Dataset - Kaggle', url='https://www.kaggle.com/datasets/rishabhpancholi1302/spotify-most-popular-songs-dataset', content='This dataset contains a collection of the most popular songs on Spotify, along with various attributes that can be used for music analysis and recommendation'), TavilySearchOutput(title='200K+ Spotify Songs Light Dataset - Kaggle', url='https://www.kaggle.com/datasets/devdope/200k-spotify-songs-light-dataset', content='A Light Dataset for Music Recommendation and Emotion Analysis (200K+ Tracks)'), TavilySearchOutput(title='Spotify Song Recommendation - Kaggle', url='https://www.kaggle.com/datasets/priyeshsinghal/spotify-song', content='Spotify makes new song recommendations to users every week based on the songs that are currently saved in their playlists.'), TavilySearchOutput(title='Spotify - All Time Top 2000s Mega Dataset - Kaggle', url='https://www.kaggle.com/datasets/iamsumat/spotify-top-2000s-mega-dataset', content=\"This dataset contains audio statistics of the top 2000 tracks on Spotify. The data contains about 15 columns each describing the track and it's qualities.\"), TavilySearchOutput(title='Spotify Tracks Dataset (Updated every week) - Kaggle', url='https://www.kaggle.com/datasets/gauthamvijayaraj/spotify-tracks-dataset-updated-every-week', content='This is a dataset of Spotify tracks over a range of 60,000. This dataset will help you find songs in 6 different language - English, Hindi, Tamil, Telugu,'), TavilySearchOutput(title='114000 Spotify Songs - Kaggle', url='https://www.kaggle.com/datasets/priyamchoksi/spotify-dataset-114k-songs', content='This dataset contains information on Spotify tracks spanning 125 different genres. Each track is described by various audio features and metadata.'), TavilySearchOutput(title='Spotify Million Song Dataset - Kaggle', url='https://www.kaggle.com/datasets/notshrirang/spotify-million-song-dataset/code', content='Spotify Million Song Dataset. A dataset containing songs, artists names, link to song and lyrics.'), TavilySearchOutput(title='Top Spotify Songs - Kaggle', url='https://www.kaggle.com/datasets/arnavvvvv/spotify-music', content=\"Dataset contains a comprehensive list of the most famous songs and most streamed songs as listed on Spotify. It provides insights into each song's. Attributes\"), TavilySearchOutput(title='Spotify Playlists - Kaggle', url='https://www.kaggle.com/datasets/andrewmvd/spotify-playlists', content='This dataset is based on the subset of users in the #nowplaying dataset who publish their #nowplaying tweets via Spotify.')], 'status': ['Gathered Kaggle urls']}}\n",
      "Dataset URL: https://www.kaggle.com/datasets/maharshipandya/-spotify-tracks-dataset\n",
      "Dataset URL: https://www.kaggle.com/datasets/rishabhpancholi1302/spotify-most-popular-songs-dataset\n",
      "Dataset URL: https://www.kaggle.com/datasets/devdope/200k-spotify-songs-light-dataset\n",
      "Dataset URL: https://www.kaggle.com/datasets/priyeshsinghal/spotify-song\n",
      "Dataset URL: https://www.kaggle.com/datasets/iamsumat/spotify-top-2000s-mega-dataset\n",
      "Dataset URL: https://www.kaggle.com/datasets/gauthamvijayaraj/spotify-tracks-dataset-updated-every-week\n",
      "Dataset URL: https://www.kaggle.com/datasets/priyamchoksi/spotify-dataset-114k-songs\n",
      "Dataset URL: https://www.kaggle.com/datasets/notshrirang/spotify-million-song-dataset\n",
      "Dataset URL: https://www.kaggle.com/datasets/arnavvvvv/spotify-music\n",
      "Dataset URL: https://www.kaggle.com/datasets/andrewmvd/spotify-playlists\n",
      "{'download_kaggle_files': {'download_results': [DownloadedDataset(source_url='https://www.kaggle.com/datasets/maharshipandya/-spotify-tracks-dataset', source_id='maharshipandya/-spotify-tracks-dataset', display_name='-spotify-tracks-dataset', dest_dir='/Users/riyanshibohra/Documents/GitHub/Nexora/data/kaggle/maharshipandya__-spotify-tracks-dataset', files=[FileRecord(path='/Users/riyanshibohra/Documents/GitHub/Nexora/data/kaggle/maharshipandya__-spotify-tracks-dataset/dataset.csv', rel_path='dataset.csv', ext='.csv')], meta={'owner': 'maharshipandya', 'num_files': 1}), DownloadedDataset(source_url='https://www.kaggle.com/datasets/rishabhpancholi1302/spotify-most-popular-songs-dataset', source_id='rishabhpancholi1302/spotify-most-popular-songs-dataset', display_name='spotify-most-popular-songs-dataset', dest_dir='/Users/riyanshibohra/Documents/GitHub/Nexora/data/kaggle/rishabhpancholi1302__spotify-most-popular-songs-dataset', files=[FileRecord(path='/Users/riyanshibohra/Documents/GitHub/Nexora/data/kaggle/rishabhpancholi1302__spotify-most-popular-songs-dataset/songs.csv', rel_path='songs.csv', ext='.csv')], meta={'owner': 'rishabhpancholi1302', 'num_files': 1}), DownloadedDataset(source_url='https://www.kaggle.com/datasets/devdope/200k-spotify-songs-light-dataset', source_id='devdope/200k-spotify-songs-light-dataset', display_name='200k-spotify-songs-light-dataset', dest_dir='/Users/riyanshibohra/Documents/GitHub/Nexora/data/kaggle/devdope__200k-spotify-songs-light-dataset', files=[FileRecord(path='/Users/riyanshibohra/Documents/GitHub/Nexora/data/kaggle/devdope__200k-spotify-songs-light-dataset/light_spotify_dataset.json', rel_path='light_spotify_dataset.json', ext='.json'), FileRecord(path='/Users/riyanshibohra/Documents/GitHub/Nexora/data/kaggle/devdope__200k-spotify-songs-light-dataset/light_spotify_dataset.csv', rel_path='light_spotify_dataset.csv', ext='.csv')], meta={'owner': 'devdope', 'num_files': 2}), DownloadedDataset(source_url='https://www.kaggle.com/datasets/priyeshsinghal/spotify-song', source_id='priyeshsinghal/spotify-song', display_name='spotify-song', dest_dir='/Users/riyanshibohra/Documents/GitHub/Nexora/data/kaggle/priyeshsinghal__spotify-song', files=[FileRecord(path='/Users/riyanshibohra/Documents/GitHub/Nexora/data/kaggle/priyeshsinghal__spotify-song/Python_Mini Project_Case-Study.pdf', rel_path='Python_Mini Project_Case-Study.pdf', ext='.pdf'), FileRecord(path='/Users/riyanshibohra/Documents/GitHub/Nexora/data/kaggle/priyeshsinghal__spotify-song/Spotify_Proj01.ipynb - Colaboratory.pdf', rel_path='Spotify_Proj01.ipynb - Colaboratory.pdf', ext='.pdf'), FileRecord(path='/Users/riyanshibohra/Documents/GitHub/Nexora/data/kaggle/priyeshsinghal__spotify-song/Spotify_Proj01 (1).ipynb', rel_path='Spotify_Proj01 (1).ipynb', ext='.ipynb'), FileRecord(path='/Users/riyanshibohra/Documents/GitHub/Nexora/data/kaggle/priyeshsinghal__spotify-song/Python Mini Project - Jupyter Notebook/Python Mini Project.ipynb', rel_path='Python Mini Project - Jupyter Notebook/Python Mini Project.ipynb', ext='.ipynb'), FileRecord(path='/Users/riyanshibohra/Documents/GitHub/Nexora/data/kaggle/priyeshsinghal__spotify-song/Python Mini Project - Jupyter Notebook/Python Mini Project - Jupyter Notebook.pdf', rel_path='Python Mini Project - Jupyter Notebook/Python Mini Project - Jupyter Notebook.pdf', ext='.pdf')], meta={'owner': 'priyeshsinghal', 'num_files': 5}), DownloadedDataset(source_url='https://www.kaggle.com/datasets/iamsumat/spotify-top-2000s-mega-dataset', source_id='iamsumat/spotify-top-2000s-mega-dataset', display_name='spotify-top-2000s-mega-dataset', dest_dir='/Users/riyanshibohra/Documents/GitHub/Nexora/data/kaggle/iamsumat__spotify-top-2000s-mega-dataset', files=[FileRecord(path='/Users/riyanshibohra/Documents/GitHub/Nexora/data/kaggle/iamsumat__spotify-top-2000s-mega-dataset/Spotify-2000.csv', rel_path='Spotify-2000.csv', ext='.csv')], meta={'owner': 'iamsumat', 'num_files': 1}), DownloadedDataset(source_url='https://www.kaggle.com/datasets/gauthamvijayaraj/spotify-tracks-dataset-updated-every-week', source_id='gauthamvijayaraj/spotify-tracks-dataset-updated-every-week', display_name='spotify-tracks-dataset-updated-every-week', dest_dir='/Users/riyanshibohra/Documents/GitHub/Nexora/data/kaggle/gauthamvijayaraj__spotify-tracks-dataset-updated-every-week', files=[FileRecord(path='/Users/riyanshibohra/Documents/GitHub/Nexora/data/kaggle/gauthamvijayaraj__spotify-tracks-dataset-updated-every-week/spotify_tracks.csv', rel_path='spotify_tracks.csv', ext='.csv')], meta={'owner': 'gauthamvijayaraj', 'num_files': 1}), DownloadedDataset(source_url='https://www.kaggle.com/datasets/priyamchoksi/spotify-dataset-114k-songs', source_id='priyamchoksi/spotify-dataset-114k-songs', display_name='spotify-dataset-114k-songs', dest_dir='/Users/riyanshibohra/Documents/GitHub/Nexora/data/kaggle/priyamchoksi__spotify-dataset-114k-songs', files=[FileRecord(path='/Users/riyanshibohra/Documents/GitHub/Nexora/data/kaggle/priyamchoksi__spotify-dataset-114k-songs/dataset.csv', rel_path='dataset.csv', ext='.csv')], meta={'owner': 'priyamchoksi', 'num_files': 1}), DownloadedDataset(source_url='https://www.kaggle.com/datasets/notshrirang/spotify-million-song-dataset/code', source_id='notshrirang/spotify-million-song-dataset', display_name='spotify-million-song-dataset', dest_dir='/Users/riyanshibohra/Documents/GitHub/Nexora/data/kaggle/notshrirang__spotify-million-song-dataset', files=[FileRecord(path='/Users/riyanshibohra/Documents/GitHub/Nexora/data/kaggle/notshrirang__spotify-million-song-dataset/spotify_millsongdata.csv', rel_path='spotify_millsongdata.csv', ext='.csv')], meta={'owner': 'notshrirang', 'num_files': 1}), DownloadedDataset(source_url='https://www.kaggle.com/datasets/arnavvvvv/spotify-music', source_id='arnavvvvv/spotify-music', display_name='spotify-music', dest_dir='/Users/riyanshibohra/Documents/GitHub/Nexora/data/kaggle/arnavvvvv__spotify-music', files=[FileRecord(path='/Users/riyanshibohra/Documents/GitHub/Nexora/data/kaggle/arnavvvvv__spotify-music/Popular_Spotify_Songs.csv', rel_path='Popular_Spotify_Songs.csv', ext='.csv')], meta={'owner': 'arnavvvvv', 'num_files': 1}), DownloadedDataset(source_url='https://www.kaggle.com/datasets/andrewmvd/spotify-playlists', source_id='andrewmvd/spotify-playlists', display_name='spotify-playlists', dest_dir='/Users/riyanshibohra/Documents/GitHub/Nexora/data/kaggle/andrewmvd__spotify-playlists', files=[FileRecord(path='/Users/riyanshibohra/Documents/GitHub/Nexora/data/kaggle/andrewmvd__spotify-playlists/spotify_dataset.csv', rel_path='spotify_dataset.csv', ext='.csv'), FileRecord(path='/Users/riyanshibohra/Documents/GitHub/Nexora/data/kaggle/andrewmvd__spotify-playlists/README.txt', rel_path='README.txt', ext='.txt')], meta={'owner': 'andrewmvd', 'num_files': 2})], 'status': ['Downloaded Kaggle bundles']}}\n",
      "{'end_agent': {'query': 'Spotify recommendation', 'tavilySearchOutput': [TavilySearchOutput(title='Spotify Tracks Dataset - Kaggle', url='https://www.kaggle.com/datasets/maharshipandya/-spotify-tracks-dataset', content='🎹 Spotify Tracks Dataset 🎹 Spotify Tracks Dataset 🎹 Spotify Tracks Dataset - Track by Track Commentary Say Something 70 229400 False 0.407 0.147 Image 7 Song Popularity Prediction - Spotify more_vert Updated 2 years ago 🎹 Spotify Tracks Dataset Image 11 Spotify Dataset 2022 Japan Weekly Top 200 more_vert [miz · Updated 2 years ago Usability 3.5 · 599 kB 1 File (CSV)](https://www.kaggle.com/datasets/miz100010/weekly-top-200-of-japan-in-2022-spotify-dataset) more_vert [krish sharma · Updated 10 months ago Usability 8.8 · 409 MB 1 File (other)](https://www.kaggle.com/datasets/krishsharma0413/2-million-songs-from-mpd-with-audio-features) Image 13 Spotify Tracks Genre more_vert [The Devastator · Updated 2 years ago Usability 10.0 · 9 MB 1 File (CSV)](https://www.kaggle.com/datasets/thedevastator/spotify-tracks-genre-dataset) Image 15 Streaming Activity Dataset more_vert [The Devastator · Updated 2 years ago Usability 9.4 · 4 MB 2 Files (CSV)](https://www.kaggle.com/datasets/thedevastator/streaming-activity-dataset)'), TavilySearchOutput(title='Spotify Most Popular Songs Dataset - Kaggle', url='https://www.kaggle.com/datasets/rishabhpancholi1302/spotify-most-popular-songs-dataset', content='This dataset contains a collection of the most popular songs on Spotify, along with various attributes that can be used for music analysis and recommendation'), TavilySearchOutput(title='200K+ Spotify Songs Light Dataset - Kaggle', url='https://www.kaggle.com/datasets/devdope/200k-spotify-songs-light-dataset', content='A Light Dataset for Music Recommendation and Emotion Analysis (200K+ Tracks)'), TavilySearchOutput(title='Spotify Song Recommendation - Kaggle', url='https://www.kaggle.com/datasets/priyeshsinghal/spotify-song', content='Spotify makes new song recommendations to users every week based on the songs that are currently saved in their playlists.'), TavilySearchOutput(title='Spotify - All Time Top 2000s Mega Dataset - Kaggle', url='https://www.kaggle.com/datasets/iamsumat/spotify-top-2000s-mega-dataset', content=\"This dataset contains audio statistics of the top 2000 tracks on Spotify. The data contains about 15 columns each describing the track and it's qualities.\"), TavilySearchOutput(title='Spotify Tracks Dataset (Updated every week) - Kaggle', url='https://www.kaggle.com/datasets/gauthamvijayaraj/spotify-tracks-dataset-updated-every-week', content='This is a dataset of Spotify tracks over a range of 60,000. This dataset will help you find songs in 6 different language - English, Hindi, Tamil, Telugu,'), TavilySearchOutput(title='114000 Spotify Songs - Kaggle', url='https://www.kaggle.com/datasets/priyamchoksi/spotify-dataset-114k-songs', content='This dataset contains information on Spotify tracks spanning 125 different genres. Each track is described by various audio features and metadata.'), TavilySearchOutput(title='Spotify Million Song Dataset - Kaggle', url='https://www.kaggle.com/datasets/notshrirang/spotify-million-song-dataset/code', content='Spotify Million Song Dataset. A dataset containing songs, artists names, link to song and lyrics.'), TavilySearchOutput(title='Top Spotify Songs - Kaggle', url='https://www.kaggle.com/datasets/arnavvvvv/spotify-music', content=\"Dataset contains a comprehensive list of the most famous songs and most streamed songs as listed on Spotify. It provides insights into each song's. Attributes\"), TavilySearchOutput(title='Spotify Playlists - Kaggle', url='https://www.kaggle.com/datasets/andrewmvd/spotify-playlists', content='This dataset is based on the subset of users in the #nowplaying dataset who publish their #nowplaying tweets via Spotify.')], 'status': ['Gathered Kaggle urls', 'Downloaded Kaggle bundles'], 'download_results': [DownloadedDataset(source_url='https://www.kaggle.com/datasets/maharshipandya/-spotify-tracks-dataset', source_id='maharshipandya/-spotify-tracks-dataset', display_name='-spotify-tracks-dataset', dest_dir='/Users/riyanshibohra/Documents/GitHub/Nexora/data/kaggle/maharshipandya__-spotify-tracks-dataset', files=[FileRecord(path='/Users/riyanshibohra/Documents/GitHub/Nexora/data/kaggle/maharshipandya__-spotify-tracks-dataset/dataset.csv', rel_path='dataset.csv', ext='.csv')], meta={'owner': 'maharshipandya', 'num_files': 1}), DownloadedDataset(source_url='https://www.kaggle.com/datasets/rishabhpancholi1302/spotify-most-popular-songs-dataset', source_id='rishabhpancholi1302/spotify-most-popular-songs-dataset', display_name='spotify-most-popular-songs-dataset', dest_dir='/Users/riyanshibohra/Documents/GitHub/Nexora/data/kaggle/rishabhpancholi1302__spotify-most-popular-songs-dataset', files=[FileRecord(path='/Users/riyanshibohra/Documents/GitHub/Nexora/data/kaggle/rishabhpancholi1302__spotify-most-popular-songs-dataset/songs.csv', rel_path='songs.csv', ext='.csv')], meta={'owner': 'rishabhpancholi1302', 'num_files': 1}), DownloadedDataset(source_url='https://www.kaggle.com/datasets/devdope/200k-spotify-songs-light-dataset', source_id='devdope/200k-spotify-songs-light-dataset', display_name='200k-spotify-songs-light-dataset', dest_dir='/Users/riyanshibohra/Documents/GitHub/Nexora/data/kaggle/devdope__200k-spotify-songs-light-dataset', files=[FileRecord(path='/Users/riyanshibohra/Documents/GitHub/Nexora/data/kaggle/devdope__200k-spotify-songs-light-dataset/light_spotify_dataset.json', rel_path='light_spotify_dataset.json', ext='.json'), FileRecord(path='/Users/riyanshibohra/Documents/GitHub/Nexora/data/kaggle/devdope__200k-spotify-songs-light-dataset/light_spotify_dataset.csv', rel_path='light_spotify_dataset.csv', ext='.csv')], meta={'owner': 'devdope', 'num_files': 2}), DownloadedDataset(source_url='https://www.kaggle.com/datasets/priyeshsinghal/spotify-song', source_id='priyeshsinghal/spotify-song', display_name='spotify-song', dest_dir='/Users/riyanshibohra/Documents/GitHub/Nexora/data/kaggle/priyeshsinghal__spotify-song', files=[FileRecord(path='/Users/riyanshibohra/Documents/GitHub/Nexora/data/kaggle/priyeshsinghal__spotify-song/Python_Mini Project_Case-Study.pdf', rel_path='Python_Mini Project_Case-Study.pdf', ext='.pdf'), FileRecord(path='/Users/riyanshibohra/Documents/GitHub/Nexora/data/kaggle/priyeshsinghal__spotify-song/Spotify_Proj01.ipynb - Colaboratory.pdf', rel_path='Spotify_Proj01.ipynb - Colaboratory.pdf', ext='.pdf'), FileRecord(path='/Users/riyanshibohra/Documents/GitHub/Nexora/data/kaggle/priyeshsinghal__spotify-song/Spotify_Proj01 (1).ipynb', rel_path='Spotify_Proj01 (1).ipynb', ext='.ipynb'), FileRecord(path='/Users/riyanshibohra/Documents/GitHub/Nexora/data/kaggle/priyeshsinghal__spotify-song/Python Mini Project - Jupyter Notebook/Python Mini Project.ipynb', rel_path='Python Mini Project - Jupyter Notebook/Python Mini Project.ipynb', ext='.ipynb'), FileRecord(path='/Users/riyanshibohra/Documents/GitHub/Nexora/data/kaggle/priyeshsinghal__spotify-song/Python Mini Project - Jupyter Notebook/Python Mini Project - Jupyter Notebook.pdf', rel_path='Python Mini Project - Jupyter Notebook/Python Mini Project - Jupyter Notebook.pdf', ext='.pdf')], meta={'owner': 'priyeshsinghal', 'num_files': 5}), DownloadedDataset(source_url='https://www.kaggle.com/datasets/iamsumat/spotify-top-2000s-mega-dataset', source_id='iamsumat/spotify-top-2000s-mega-dataset', display_name='spotify-top-2000s-mega-dataset', dest_dir='/Users/riyanshibohra/Documents/GitHub/Nexora/data/kaggle/iamsumat__spotify-top-2000s-mega-dataset', files=[FileRecord(path='/Users/riyanshibohra/Documents/GitHub/Nexora/data/kaggle/iamsumat__spotify-top-2000s-mega-dataset/Spotify-2000.csv', rel_path='Spotify-2000.csv', ext='.csv')], meta={'owner': 'iamsumat', 'num_files': 1}), DownloadedDataset(source_url='https://www.kaggle.com/datasets/gauthamvijayaraj/spotify-tracks-dataset-updated-every-week', source_id='gauthamvijayaraj/spotify-tracks-dataset-updated-every-week', display_name='spotify-tracks-dataset-updated-every-week', dest_dir='/Users/riyanshibohra/Documents/GitHub/Nexora/data/kaggle/gauthamvijayaraj__spotify-tracks-dataset-updated-every-week', files=[FileRecord(path='/Users/riyanshibohra/Documents/GitHub/Nexora/data/kaggle/gauthamvijayaraj__spotify-tracks-dataset-updated-every-week/spotify_tracks.csv', rel_path='spotify_tracks.csv', ext='.csv')], meta={'owner': 'gauthamvijayaraj', 'num_files': 1}), DownloadedDataset(source_url='https://www.kaggle.com/datasets/priyamchoksi/spotify-dataset-114k-songs', source_id='priyamchoksi/spotify-dataset-114k-songs', display_name='spotify-dataset-114k-songs', dest_dir='/Users/riyanshibohra/Documents/GitHub/Nexora/data/kaggle/priyamchoksi__spotify-dataset-114k-songs', files=[FileRecord(path='/Users/riyanshibohra/Documents/GitHub/Nexora/data/kaggle/priyamchoksi__spotify-dataset-114k-songs/dataset.csv', rel_path='dataset.csv', ext='.csv')], meta={'owner': 'priyamchoksi', 'num_files': 1}), DownloadedDataset(source_url='https://www.kaggle.com/datasets/notshrirang/spotify-million-song-dataset/code', source_id='notshrirang/spotify-million-song-dataset', display_name='spotify-million-song-dataset', dest_dir='/Users/riyanshibohra/Documents/GitHub/Nexora/data/kaggle/notshrirang__spotify-million-song-dataset', files=[FileRecord(path='/Users/riyanshibohra/Documents/GitHub/Nexora/data/kaggle/notshrirang__spotify-million-song-dataset/spotify_millsongdata.csv', rel_path='spotify_millsongdata.csv', ext='.csv')], meta={'owner': 'notshrirang', 'num_files': 1}), DownloadedDataset(source_url='https://www.kaggle.com/datasets/arnavvvvv/spotify-music', source_id='arnavvvvv/spotify-music', display_name='spotify-music', dest_dir='/Users/riyanshibohra/Documents/GitHub/Nexora/data/kaggle/arnavvvvv__spotify-music', files=[FileRecord(path='/Users/riyanshibohra/Documents/GitHub/Nexora/data/kaggle/arnavvvvv__spotify-music/Popular_Spotify_Songs.csv', rel_path='Popular_Spotify_Songs.csv', ext='.csv')], meta={'owner': 'arnavvvvv', 'num_files': 1}), DownloadedDataset(source_url='https://www.kaggle.com/datasets/andrewmvd/spotify-playlists', source_id='andrewmvd/spotify-playlists', display_name='spotify-playlists', dest_dir='/Users/riyanshibohra/Documents/GitHub/Nexora/data/kaggle/andrewmvd__spotify-playlists', files=[FileRecord(path='/Users/riyanshibohra/Documents/GitHub/Nexora/data/kaggle/andrewmvd__spotify-playlists/spotify_dataset.csv', rel_path='spotify_dataset.csv', ext='.csv'), FileRecord(path='/Users/riyanshibohra/Documents/GitHub/Nexora/data/kaggle/andrewmvd__spotify-playlists/README.txt', rel_path='README.txt', ext='.txt')], meta={'owner': 'andrewmvd', 'num_files': 2})]}}\n"
     ]
    }
   ],
   "source": [
    "for event in final_graph.stream(state):\n",
    "    print(event)"
   ]
  },
  {
   "cell_type": "code",
   "execution_count": null,
   "id": "bed19f1b",
   "metadata": {},
   "outputs": [],
   "source": []
  },
  {
   "cell_type": "code",
   "execution_count": null,
   "id": "980f293b",
   "metadata": {},
   "outputs": [],
   "source": []
  }
 ],
 "metadata": {
  "kernelspec": {
   "display_name": "venv",
   "language": "python",
   "name": "python3"
  },
  "language_info": {
   "codemirror_mode": {
    "name": "ipython",
    "version": 3
   },
   "file_extension": ".py",
   "mimetype": "text/x-python",
   "name": "python",
   "nbconvert_exporter": "python",
   "pygments_lexer": "ipython3",
   "version": "3.12.0"
  }
 },
 "nbformat": 4,
 "nbformat_minor": 5
}
