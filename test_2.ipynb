{
 "cells": [
  {
   "cell_type": "code",
   "execution_count": 1,
   "id": "b54ce88c",
   "metadata": {},
   "outputs": [
    {
     "data": {
      "text/plain": [
       "True"
      ]
     },
     "execution_count": 1,
     "metadata": {},
     "output_type": "execute_result"
    }
   ],
   "source": [
    "import os\n",
    "from dotenv import load_dotenv\n",
    "\n",
    "load_dotenv()"
   ]
  },
  {
   "cell_type": "code",
   "execution_count": 2,
   "id": "1034cef7",
   "metadata": {},
   "outputs": [],
   "source": [
    "OPEN_API_KEY = os.getenv('OPEN_API_KEY')\n",
    "\n",
    "LANGSMITH_TRACING = os.getenv('LANGSMITH_TRACING')\n",
    "LANGSMITH_API_KEY = os.getenv('LANGSMITH_API_KEY')\n",
    "LANGSMITH_PROJECT = os.getenv('LANGSMITH_PROJECT')\n",
    "LANGSMITH_ENDPOINT = os.getenv('LANGSMITH_ENDPOINT')\n",
    "\n",
    "TAVILY_API_KEY = os.getenv('TAVILY_API_KEY')"
   ]
  },
  {
   "cell_type": "code",
   "execution_count": 3,
   "id": "ff44dec3",
   "metadata": {},
   "outputs": [],
   "source": [
    "from langchain_openai import ChatOpenAI\n",
    "\n",
    "llm = ChatOpenAI(model=\"gpt-4o\", temperature=0)"
   ]
  },
  {
   "cell_type": "code",
   "execution_count": 4,
   "id": "e1001c61",
   "metadata": {},
   "outputs": [],
   "source": [
    "from tavily import TavilyClient\n",
    "\n",
    "# Initialize Tavily client\n",
    "tavily_client = TavilyClient(api_key=TAVILY_API_KEY)\n"
   ]
  },
  {
   "cell_type": "code",
   "execution_count": 5,
   "id": "431ad60a",
   "metadata": {},
   "outputs": [],
   "source": [
    "from pydantic import BaseModel, Field\n",
    "\n",
    "\n",
    "from typing import TypedDict, List, Any, Optional, Dict\n",
    "from typing import Annotated, Literal\n",
    "from operator import add"
   ]
  },
  {
   "cell_type": "code",
   "execution_count": 6,
   "id": "61e28e1c",
   "metadata": {},
   "outputs": [],
   "source": [
    "class TavilySearchOutput(BaseModel):\n",
    "    title: str\n",
    "    url: str\n",
    "    content: str\n"
   ]
  },
  {
   "cell_type": "code",
   "execution_count": 7,
   "id": "fd1c54ee",
   "metadata": {},
   "outputs": [],
   "source": [
    "class FileRecord(BaseModel):\n",
    "    path: str\n",
    "    rel_path: str\n",
    "    ext: str\n",
    "    size_bytes: int\n",
    "\n",
    "class DownloadedDataset(BaseModel):\n",
    "    provider: Literal[\"kaggle\"]\n",
    "    source_url: str\n",
    "    source_id: str\n",
    "    display_name: Optional[str] = None\n",
    "    dest_dir: str\n",
    "    files: List[FileRecord]\n",
    "    meta: Dict[str, Any] = Field(default_factory=dict)\n",
    "\n",
    "\n",
    "class SourcingAgentState(TypedDict):\n",
    "    query: str\n",
    "    tavilySearchOutput: List[TavilySearchOutput]\n",
    "    status: Annotated[List[str], add]\n",
    "    kaggle_urls: List[str]\n",
    "    #hf_urls: List[str]\n",
    "    download_results: Annotated[List[DownloadedDataset], add]\n"
   ]
  },
  {
   "cell_type": "code",
   "execution_count": 8,
   "id": "20cfcbc1",
   "metadata": {},
   "outputs": [],
   "source": [
    "# This function takes your search term, looks it up on dataset-heavy sites, filters duplicates, and returns a clean list of dataset pages.\n",
    "\n",
    "def tavily_search_tool(state: SourcingAgentState):\n",
    "    \"\"\"Search Kaggle only and return up to 10 most relevant, deduped dataset links.\"\"\"\n",
    "    query = state[\"query\"]\n",
    "\n",
    "    site_queries = {\n",
    "        \"kaggle\": f\"{query} dataset site:kaggle.com/datasets\"\n",
    "    }\n",
    "\n",
    "    def which_site(url: str) -> str | None:\n",
    "        u = url.lower()\n",
    "        if \"kaggle.com/datasets/\" in u:\n",
    "            return \"kaggle\"\n",
    "        return None\n",
    "\n",
    "    def relevance_score(site: str, title: str, url: str, content: str) -> float:\n",
    "        t = (title or \"\").lower()\n",
    "        u = (url or \"\").lower()\n",
    "        c = (content or \"\").lower()\n",
    "        score = 0.0\n",
    "        if any(x in u for x in [\".csv\", \".xlsx\", \".json\", \"/download\", \"/raw/\"]):\n",
    "            score += 3.0\n",
    "        if any(x in c for x in [\"csv\", \"xlsx\", \"json\", \"download\"]):\n",
    "            score += 2.0\n",
    "        for tok in set(query.lower().split()):\n",
    "            if tok and (tok in t or tok in c):\n",
    "                score += 0.5\n",
    "        if site == \"kaggle\":\n",
    "            score += 0.5\n",
    "        return score\n",
    "\n",
    "    candidates: list[tuple[str, TavilySearchOutput, float]] = []\n",
    "    seen_urls: set[str] = set()\n",
    "\n",
    "    # Collect per-site, compute scores (Kaggle only)\n",
    "    for site, q in site_queries.items():\n",
    "        try:\n",
    "            r = tavily_client.search(query=q, search_depth=\"basic\", max_results=15)\n",
    "        except Exception:\n",
    "            continue\n",
    "        if not isinstance(r, dict) or \"results\" not in r:\n",
    "            continue\n",
    "        for h in r[\"results\"]:\n",
    "            url = h.get(\"url\", \"\") if isinstance(h, dict) else \"\"\n",
    "            site_name = which_site(url) if url else None\n",
    "            if site_name is None:\n",
    "                continue\n",
    "            if url in seen_urls:\n",
    "                continue\n",
    "            seen_urls.add(url)\n",
    "            title = h.get(\"title\", \"\")\n",
    "            content = h.get(\"content\", \"\")\n",
    "            tso = TavilySearchOutput(title=title, url=url, content=content)\n",
    "            score = relevance_score(site_name, title, url, content)\n",
    "            candidates.append((site_name, tso, score))\n",
    "\n",
    "    candidates.sort(key=lambda x: x[2], reverse=True)\n",
    "\n",
    "    selected: list[TavilySearchOutput] = []\n",
    "    used_urls: set[str] = set()\n",
    "\n",
    "    for _, tso, _ in candidates:\n",
    "        if len(selected) >= 10:\n",
    "            break\n",
    "        if tso.url in used_urls:\n",
    "            continue\n",
    "        selected.append(tso)\n",
    "        used_urls.add(tso.url)\n",
    "\n",
    "    return { \"tavilySearchOutput\": selected, \"status\": [\"Gathered Kaggle urls\"] }"
   ]
  },
  {
   "cell_type": "markdown",
   "id": "dca55ff8",
   "metadata": {},
   "source": [
    "# Get datasest from Kaggle"
   ]
  },
  {
   "cell_type": "markdown",
   "id": "146ff5ca",
   "metadata": {},
   "source": [
    "## Tool to download Kaggle Files: download_kaggle_files"
   ]
  },
  {
   "cell_type": "code",
   "execution_count": 9,
   "id": "fbb6027f",
   "metadata": {},
   "outputs": [],
   "source": [
    "from kaggle.api.kaggle_api_extended import KaggleApi\n",
    "import os\n",
    "import re\n",
    "from pathlib import Path\n",
    "from typing import List\n",
    "\n",
    "\n",
    "def download_kaggle_files(state: SourcingAgentState, data_dir: str = './data') -> dict:\n",
    "    \"\"\"\n",
    "    Download each Kaggle URL into its own folder and return structured bundles for UI/analysis.\n",
    "    \"\"\"\n",
    "\n",
    "    urls = state.get('kaggle_urls', [])\n",
    "\n",
    "    api = KaggleApi()\n",
    "    api.authenticate()\n",
    "\n",
    "    base_dir = Path(data_dir) / 'kaggle'\n",
    "    base_dir.mkdir(parents=True, exist_ok=True)\n",
    "\n",
    "    def sanitize_slug(slug: str) -> str:\n",
    "        # 'owner/name' -> 'owner__name' and strip unsafe chars\n",
    "        return re.sub(r'[^a-zA-Z0-9._-]+', '_', slug.replace('/', '__'))\n",
    "\n",
    "    bundles: List[DownloadedDataset] = []\n",
    "\n",
    "    for url in urls:\n",
    "        # Extract dataset slug from URL\n",
    "        m = re.search(r'kaggle\\.com/datasets/([^/]+/[^/?#]+)', url)\n",
    "        if not m:\n",
    "            continue\n",
    "        slug = m.group(1)\n",
    "        owner = slug.split('/')[0]\n",
    "        name = slug.split('/')[-1]\n",
    "\n",
    "        dest_dir = base_dir / sanitize_slug(slug)\n",
    "        dest_dir.mkdir(parents=True, exist_ok=True)\n",
    "\n",
    "        api.dataset_download_files(\n",
    "            slug,\n",
    "            path=str(dest_dir),\n",
    "            force=False,\n",
    "            quiet=True,\n",
    "            unzip=True\n",
    "        )\n",
    "\n",
    "        files: List[FileRecord] = []\n",
    "        for p in dest_dir.rglob('*'):\n",
    "            if p.is_file():\n",
    "                try:\n",
    "                    size = p.stat().st_size\n",
    "                except Exception:\n",
    "                    size = 0\n",
    "                files.append(FileRecord(\n",
    "                    path=str(p.resolve()),\n",
    "                    rel_path=str(p.relative_to(dest_dir)),\n",
    "                    ext=p.suffix.lower(),\n",
    "                    size_bytes=size,\n",
    "                ))\n",
    "\n",
    "        bundles.append(DownloadedDataset(\n",
    "            provider='kaggle',\n",
    "            source_url=url,\n",
    "            source_id=slug,\n",
    "            display_name=name,\n",
    "            dest_dir=str(dest_dir.resolve()),\n",
    "            files=files,\n",
    "            meta={\n",
    "                'owner': owner,\n",
    "                'num_files': len(files),\n",
    "            }\n",
    "        ))\n",
    "\n",
    "    return {\"download_results\": bundles, \"status\": [\"Downloaded Kaggle bundles\"]}\n"
   ]
  },
  {
   "cell_type": "markdown",
   "id": "df49e03b",
   "metadata": {},
   "source": [
    "## Tool to download Hugging Face Files : download_huggingface_files"
   ]
  },
  {
   "cell_type": "code",
   "execution_count": 12,
   "id": "36f2bdb8",
   "metadata": {},
   "outputs": [],
   "source": [
    "def end_agent(state: SourcingAgentState):\n",
    "    return state\n"
   ]
  },
  {
   "cell_type": "code",
   "execution_count": 13,
   "id": "3738ee7c",
   "metadata": {},
   "outputs": [],
   "source": [
    "def url_downloader_router(state: SourcingAgentState):\n",
    "    \"\"\"Select the tool to use based on the state (Kaggle-only).\"\"\"\n",
    "    urls = [tso.url for tso in state['tavilySearchOutput']]\n",
    "    kaggle_urls = [url for url in urls if \"kaggle.com\" in url]\n",
    "    return {\n",
    "        \"kaggle_urls\": kaggle_urls,\n",
    "        \"status\": [\"Extracted Kaggle urls\"]\n",
    "    }\n",
    "\n"
   ]
  },
  {
   "cell_type": "code",
   "execution_count": 14,
   "id": "d9389c93",
   "metadata": {},
   "outputs": [
    {
     "data": {
      "image/png": "[encoded data removed]",
      "text/plain": [
       "<IPython.core.display.Image object>"
      ]
     },
     "metadata": {},
     "output_type": "display_data"
    }
   ],
   "source": [
    "from langgraph.graph import StateGraph, START, END\n",
    "\n",
    "graph = StateGraph(SourcingAgentState)\n",
    "\n",
    "graph.add_node(\"tavily_search\", tavily_search_tool)\n",
    "graph.add_node(\"download_kaggle_files\", download_kaggle_files)\n",
    "graph.add_node(\"url_downloader_router\", url_downloader_router)\n",
    "graph.add_node(\"end_agent\", end_agent)\n",
    "\n",
    "graph.add_edge(START, \"tavily_search\")\n",
    "graph.add_edge(\"tavily_search\", \"url_downloader_router\")\n",
    "graph.add_edge(\"url_downloader_router\", \"download_kaggle_files\")\n",
    "graph.add_edge(\"download_kaggle_files\", \"end_agent\")\n",
    "\n",
    "final_graph = graph.compile()\n",
    "\n",
    "from IPython.display import Image, display\n",
    "display(Image(final_graph.get_graph().draw_mermaid_png()))\n",
    "\n"
   ]
  },
  {
   "cell_type": "code",
   "execution_count": 17,
   "id": "c5be7654",
   "metadata": {},
   "outputs": [],
   "source": [
    "query = \"Climate Change 2024\"\n",
    "\n",
    "state = SourcingAgentState(query=query)\n"
   ]
  },
  {
   "cell_type": "code",
   "execution_count": 18,
   "id": "a1c79d74",
   "metadata": {},
   "outputs": [
    {
     "name": "stdout",
     "output_type": "stream",
     "text": [
      "{'tavily_search': {'tavilySearchOutput': [TavilySearchOutput(title='Climate Change Dataset - Kaggle', url='https://www.kaggle.com/datasets/bhadramohit/climate-change-dataset', content='Climate Change Dataset Climate Change Dataset This dataset provides a comprehensive overview of key climate change indicators collected across different countries from the year 2000 to 2024. The country or region where the climate data was collected. The data can be used for machine learning models to predict future climate scenarios, especially in relation to global temperature rise, sea-level changes, and extreme weather events. File Name: climate_change_dataset.csv The year in which the data was recorded (from 2000 to 2024).text_format Country sort The country or region for which the climate data is recorded. The average annual temperature in degrees Celsius for each country.grid_3x3 CO2 Emissions (Tons/Capita)sort The annual sea-level rise in millimeters for coastal regions of the country.grid_3x3 Rainfall (mm)sort calendar_view_week climate_change_dataset.csv   '), TavilySearchOutput(title='Climate Change Impact on Agriculture - Kaggle', url='https://www.kaggle.com/datasets/waqi786/climate-change-impact-on-agriculture', content='This synthetic dataset is designed to simulate real-world agricultural data, enabling researchers, data scientists, and policymakers to explore how climate variations influence food production across different regions. ✔️ Climate Variables – Simulated data on temperature changes, precipitation levels, and extreme weather events ✔️ Crop Productivity – Modeled impact of climate shifts on yields of key crops like wheat, rice, and corn calendar_view_week climate_change_impact_on_agriculture_2024.csv    Climate Change & Agriculture Analysis more_vert Updated 9 months ago 🌍 Climate Change Impact on Agriculture 🌱 Impact_of_Climate_Change_on Agriculture more_vert Updated 8 months ago 🌍 Climate Change Impact on Agriculture 🌱+1 🌍 Climate Change Impact on Agriculture 🌱 more_vert Updated 8 months ago 🌍 Climate Change Impact on Agriculture 🌱'), TavilySearchOutput(title='Climate Change Dataset2020_2024 - Kaggle', url='https://www.kaggle.com/datasets/atifmasih/climate-change-dataset2020-2024', content='This dataset, spanning from January 2020 to May 2024, contains a comprehensive collection of global climate data. It includes various climatic features'), TavilySearchOutput(title='Climate Change Dataset - Kaggle', url='https://www.kaggle.com/datasets/bhadramohit/climate-change-dataset/code', content='\"Dataset of Temperature, Emissions, and Environmental Trends (2000-2024)\"'), TavilySearchOutput(title='Climate Change Impact Data - Kaggle', url='https://www.kaggle.com/datasets/aloktantrik/agricultural-productivity-and-environmental-impact', content='Climate Change Impact Data. Overview. This dataset provides valuable insights into agricultural productivity across various states in India from 1990 to 2024.'), TavilySearchOutput(title='Average Monthly surface temperature (1940-2024) - Kaggle', url='https://www.kaggle.com/datasets/samithsachidanandan/average-monthly-surface-temperature-1940-2024', content='This Dataset contains details of Average Monthly surface temperature (1940-2024). Current climate change is primarily caused by human emissions of greenhouse'), TavilySearchOutput(title='Climate Change News - Kaggle', url='https://www.kaggle.com/datasets/fringewidth/climate-change-news/data', content='This dataset features 1,024 climate change-related headlines from the top 15 countries by GDP, each accompanied by a source link, a sentiment score ranging'), TavilySearchOutput(title='Climate Action Social Media Global Trends 2024-25 - Kaggle', url='https://www.kaggle.com/datasets/pratyushpuri/global-climate-action-social-media-trends-2024-25', content='Description. This synthetic dataset contains 1,000+ social media posts related to sustainability and climate action across multiple platforms.'), TavilySearchOutput(title='Climate Insights Dataset - Kaggle', url='https://www.kaggle.com/datasets/goyaladi/climate-insights-dataset/data', content='This comprehensive dataset provides valuable insights into the impact of climate change on our planet. It encompasses a wide range of climate variables,'), TavilySearchOutput(title='Environment: Climate Dataset - Kaggle', url='https://www.kaggle.com/datasets/heemalichaudhari/environment-climate-dataset/versions/1', content='Climate datasets can be used by researchers, governments, businesses, and other organizations to better understand and plan for the impacts of climate change.')], 'status': ['Gathered Kaggle urls']}}\n",
      "{'url_downloader_router': {'kaggle_urls': ['https://www.kaggle.com/datasets/bhadramohit/climate-change-dataset', 'https://www.kaggle.com/datasets/waqi786/climate-change-impact-on-agriculture', 'https://www.kaggle.com/datasets/atifmasih/climate-change-dataset2020-2024', 'https://www.kaggle.com/datasets/bhadramohit/climate-change-dataset/code', 'https://www.kaggle.com/datasets/aloktantrik/agricultural-productivity-and-environmental-impact', 'https://www.kaggle.com/datasets/samithsachidanandan/average-monthly-surface-temperature-1940-2024', 'https://www.kaggle.com/datasets/fringewidth/climate-change-news/data', 'https://www.kaggle.com/datasets/pratyushpuri/global-climate-action-social-media-trends-2024-25', 'https://www.kaggle.com/datasets/goyaladi/climate-insights-dataset/data', 'https://www.kaggle.com/datasets/heemalichaudhari/environment-climate-dataset/versions/1'], 'status': ['Extracted Kaggle urls']}}\n",
      "Dataset URL: https://www.kaggle.com/datasets/bhadramohit/climate-change-dataset\n",
      "Dataset URL: https://www.kaggle.com/datasets/waqi786/climate-change-impact-on-agriculture\n",
      "Dataset URL: https://www.kaggle.com/datasets/atifmasih/climate-change-dataset2020-2024\n",
      "Dataset URL: https://www.kaggle.com/datasets/bhadramohit/climate-change-dataset\n",
      "Dataset URL: https://www.kaggle.com/datasets/aloktantrik/agricultural-productivity-and-environmental-impact\n",
      "Dataset URL: https://www.kaggle.com/datasets/samithsachidanandan/average-monthly-surface-temperature-1940-2024\n",
      "Dataset URL: https://www.kaggle.com/datasets/fringewidth/climate-change-news\n",
      "Dataset URL: https://www.kaggle.com/datasets/pratyushpuri/global-climate-action-social-media-trends-2024-25\n",
      "Dataset URL: https://www.kaggle.com/datasets/goyaladi/climate-insights-dataset\n",
      "Dataset URL: https://www.kaggle.com/datasets/heemalichaudhari/environment-climate-dataset\n",
      "{'download_kaggle_files': {'download_results': [DownloadedDataset(provider='kaggle', source_url='https://www.kaggle.com/datasets/bhadramohit/climate-change-dataset', source_id='bhadramohit/climate-change-dataset', display_name='climate-change-dataset', dest_dir='/Users/riyanshibohra/Documents/GitHub/Nexora/data/kaggle/bhadramohit__climate-change-dataset', files=[FileRecord(path='/Users/riyanshibohra/Documents/GitHub/Nexora/data/kaggle/bhadramohit__climate-change-dataset/climate_change_dataset.csv', rel_path='climate_change_dataset.csv', ext='.csv', size_bytes=53208)], meta={'owner': 'bhadramohit', 'num_files': 1}), DownloadedDataset(provider='kaggle', source_url='https://www.kaggle.com/datasets/waqi786/climate-change-impact-on-agriculture', source_id='waqi786/climate-change-impact-on-agriculture', display_name='climate-change-impact-on-agriculture', dest_dir='/Users/riyanshibohra/Documents/GitHub/Nexora/data/kaggle/waqi786__climate-change-impact-on-agriculture', files=[FileRecord(path='/Users/riyanshibohra/Documents/GitHub/Nexora/data/kaggle/waqi786__climate-change-impact-on-agriculture/climate_change_impact_on_agriculture_2024.csv', rel_path='climate_change_impact_on_agriculture_2024.csv', ext='.csv', size_bytes=1055618)], meta={'owner': 'waqi786', 'num_files': 1}), DownloadedDataset(provider='kaggle', source_url='https://www.kaggle.com/datasets/atifmasih/climate-change-dataset2020-2024', source_id='atifmasih/climate-change-dataset2020-2024', display_name='climate-change-dataset2020-2024', dest_dir='/Users/riyanshibohra/Documents/GitHub/Nexora/data/kaggle/atifmasih__climate-change-dataset2020-2024', files=[FileRecord(path='/Users/riyanshibohra/Documents/GitHub/Nexora/data/kaggle/atifmasih__climate-change-dataset2020-2024/climate_change_dataset.csv', rel_path='climate_change_dataset.csv', ext='.csv', size_bytes=14606)], meta={'owner': 'atifmasih', 'num_files': 1}), DownloadedDataset(provider='kaggle', source_url='https://www.kaggle.com/datasets/bhadramohit/climate-change-dataset/code', source_id='bhadramohit/climate-change-dataset', display_name='climate-change-dataset', dest_dir='/Users/riyanshibohra/Documents/GitHub/Nexora/data/kaggle/bhadramohit__climate-change-dataset', files=[FileRecord(path='/Users/riyanshibohra/Documents/GitHub/Nexora/data/kaggle/bhadramohit__climate-change-dataset/climate_change_dataset.csv', rel_path='climate_change_dataset.csv', ext='.csv', size_bytes=53208)], meta={'owner': 'bhadramohit', 'num_files': 1}), DownloadedDataset(provider='kaggle', source_url='https://www.kaggle.com/datasets/aloktantrik/agricultural-productivity-and-environmental-impact', source_id='aloktantrik/agricultural-productivity-and-environmental-impact', display_name='agricultural-productivity-and-environmental-impact', dest_dir='/Users/riyanshibohra/Documents/GitHub/Nexora/data/kaggle/aloktantrik__agricultural-productivity-and-environmental-impact', files=[FileRecord(path='/Users/riyanshibohra/Documents/GitHub/Nexora/data/kaggle/aloktantrik__agricultural-productivity-and-environmental-impact/Copy of data2(1).xlsx', rel_path='Copy of data2(1).xlsx', ext='.xlsx', size_bytes=70128)], meta={'owner': 'aloktantrik', 'num_files': 1}), DownloadedDataset(provider='kaggle', source_url='https://www.kaggle.com/datasets/samithsachidanandan/average-monthly-surface-temperature-1940-2024', source_id='samithsachidanandan/average-monthly-surface-temperature-1940-2024', display_name='average-monthly-surface-temperature-1940-2024', dest_dir='/Users/riyanshibohra/Documents/GitHub/Nexora/data/kaggle/samithsachidanandan__average-monthly-surface-temperature-1940-2024', files=[FileRecord(path='/Users/riyanshibohra/Documents/GitHub/Nexora/data/kaggle/samithsachidanandan__average-monthly-surface-temperature-1940-2024/average-monthly-surface-temperature.csv', rel_path='average-monthly-surface-temperature.csv', ext='.csv', size_bytes=9879322)], meta={'owner': 'samithsachidanandan', 'num_files': 1}), DownloadedDataset(provider='kaggle', source_url='https://www.kaggle.com/datasets/fringewidth/climate-change-news/data', source_id='fringewidth/climate-change-news', display_name='climate-change-news', dest_dir='/Users/riyanshibohra/Documents/GitHub/Nexora/data/kaggle/fringewidth__climate-change-news', files=[FileRecord(path='/Users/riyanshibohra/Documents/GitHub/Nexora/data/kaggle/fringewidth__climate-change-news/climate_headlines_sentiment.csv', rel_path='climate_headlines_sentiment.csv', ext='.csv', size_bytes=452393)], meta={'owner': 'fringewidth', 'num_files': 1}), DownloadedDataset(provider='kaggle', source_url='https://www.kaggle.com/datasets/pratyushpuri/global-climate-action-social-media-trends-2024-25', source_id='pratyushpuri/global-climate-action-social-media-trends-2024-25', display_name='global-climate-action-social-media-trends-2024-25', dest_dir='/Users/riyanshibohra/Documents/GitHub/Nexora/data/kaggle/pratyushpuri__global-climate-action-social-media-trends-2024-25', files=[FileRecord(path='/Users/riyanshibohra/Documents/GitHub/Nexora/data/kaggle/pratyushpuri__global-climate-action-social-media-trends-2024-25/sustainability_social_media_posts.csv', rel_path='sustainability_social_media_posts.csv', ext='.csv', size_bytes=1184709)], meta={'owner': 'pratyushpuri', 'num_files': 1}), DownloadedDataset(provider='kaggle', source_url='https://www.kaggle.com/datasets/goyaladi/climate-insights-dataset/data', source_id='goyaladi/climate-insights-dataset', display_name='climate-insights-dataset', dest_dir='/Users/riyanshibohra/Documents/GitHub/Nexora/data/kaggle/goyaladi__climate-insights-dataset', files=[FileRecord(path='/Users/riyanshibohra/Documents/GitHub/Nexora/data/kaggle/goyaladi__climate-insights-dataset/climate_change_data.csv', rel_path='climate_change_data.csv', ext='.csv', size_bytes=1669507), FileRecord(path='/Users/riyanshibohra/Documents/GitHub/Nexora/data/kaggle/goyaladi__climate-insights-dataset/Readme.md', rel_path='Readme.md', ext='.md', size_bytes=2691)], meta={'owner': 'goyaladi', 'num_files': 2}), DownloadedDataset(provider='kaggle', source_url='https://www.kaggle.com/datasets/heemalichaudhari/environment-climate-dataset/versions/1', source_id='heemalichaudhari/environment-climate-dataset', display_name='environment-climate-dataset', dest_dir='/Users/riyanshibohra/Documents/GitHub/Nexora/data/kaggle/heemalichaudhari__environment-climate-dataset', files=[FileRecord(path='/Users/riyanshibohra/Documents/GitHub/Nexora/data/kaggle/heemalichaudhari__environment-climate-dataset/environmentdata-government-climate-datasets/Gov. Climate Datasets (Archive) - List.csv', rel_path='environmentdata-government-climate-datasets/Gov. Climate Datasets (Archive) - List.csv', ext='.csv', size_bytes=11696), FileRecord(path='/Users/riyanshibohra/Documents/GitHub/Nexora/data/kaggle/heemalichaudhari__environment-climate-dataset/environmentdata-government-climate-datasets/Gov_Climate_Datasets_Archive.csv', rel_path='environmentdata-government-climate-datasets/Gov_Climate_Datasets_Archive.csv', ext='.csv', size_bytes=18297)], meta={'owner': 'heemalichaudhari', 'num_files': 2})], 'status': ['Downloaded Kaggle bundles']}}\n",
      "{'end_agent': {'query': 'Climate Change 2024', 'tavilySearchOutput': [TavilySearchOutput(title='Climate Change Dataset - Kaggle', url='https://www.kaggle.com/datasets/bhadramohit/climate-change-dataset', content='Climate Change Dataset Climate Change Dataset This dataset provides a comprehensive overview of key climate change indicators collected across different countries from the year 2000 to 2024. The country or region where the climate data was collected. The data can be used for machine learning models to predict future climate scenarios, especially in relation to global temperature rise, sea-level changes, and extreme weather events. File Name: climate_change_dataset.csv The year in which the data was recorded (from 2000 to 2024).text_format Country sort The country or region for which the climate data is recorded. The average annual temperature in degrees Celsius for each country.grid_3x3 CO2 Emissions (Tons/Capita)sort The annual sea-level rise in millimeters for coastal regions of the country.grid_3x3 Rainfall (mm)sort calendar_view_week climate_change_dataset.csv   '), TavilySearchOutput(title='Climate Change Impact on Agriculture - Kaggle', url='https://www.kaggle.com/datasets/waqi786/climate-change-impact-on-agriculture', content='This synthetic dataset is designed to simulate real-world agricultural data, enabling researchers, data scientists, and policymakers to explore how climate variations influence food production across different regions. ✔️ Climate Variables – Simulated data on temperature changes, precipitation levels, and extreme weather events ✔️ Crop Productivity – Modeled impact of climate shifts on yields of key crops like wheat, rice, and corn calendar_view_week climate_change_impact_on_agriculture_2024.csv    Climate Change & Agriculture Analysis more_vert Updated 9 months ago 🌍 Climate Change Impact on Agriculture 🌱 Impact_of_Climate_Change_on Agriculture more_vert Updated 8 months ago 🌍 Climate Change Impact on Agriculture 🌱+1 🌍 Climate Change Impact on Agriculture 🌱 more_vert Updated 8 months ago 🌍 Climate Change Impact on Agriculture 🌱'), TavilySearchOutput(title='Climate Change Dataset2020_2024 - Kaggle', url='https://www.kaggle.com/datasets/atifmasih/climate-change-dataset2020-2024', content='This dataset, spanning from January 2020 to May 2024, contains a comprehensive collection of global climate data. It includes various climatic features'), TavilySearchOutput(title='Climate Change Dataset - Kaggle', url='https://www.kaggle.com/datasets/bhadramohit/climate-change-dataset/code', content='\"Dataset of Temperature, Emissions, and Environmental Trends (2000-2024)\"'), TavilySearchOutput(title='Climate Change Impact Data - Kaggle', url='https://www.kaggle.com/datasets/aloktantrik/agricultural-productivity-and-environmental-impact', content='Climate Change Impact Data. Overview. This dataset provides valuable insights into agricultural productivity across various states in India from 1990 to 2024.'), TavilySearchOutput(title='Average Monthly surface temperature (1940-2024) - Kaggle', url='https://www.kaggle.com/datasets/samithsachidanandan/average-monthly-surface-temperature-1940-2024', content='This Dataset contains details of Average Monthly surface temperature (1940-2024). Current climate change is primarily caused by human emissions of greenhouse'), TavilySearchOutput(title='Climate Change News - Kaggle', url='https://www.kaggle.com/datasets/fringewidth/climate-change-news/data', content='This dataset features 1,024 climate change-related headlines from the top 15 countries by GDP, each accompanied by a source link, a sentiment score ranging'), TavilySearchOutput(title='Climate Action Social Media Global Trends 2024-25 - Kaggle', url='https://www.kaggle.com/datasets/pratyushpuri/global-climate-action-social-media-trends-2024-25', content='Description. This synthetic dataset contains 1,000+ social media posts related to sustainability and climate action across multiple platforms.'), TavilySearchOutput(title='Climate Insights Dataset - Kaggle', url='https://www.kaggle.com/datasets/goyaladi/climate-insights-dataset/data', content='This comprehensive dataset provides valuable insights into the impact of climate change on our planet. It encompasses a wide range of climate variables,'), TavilySearchOutput(title='Environment: Climate Dataset - Kaggle', url='https://www.kaggle.com/datasets/heemalichaudhari/environment-climate-dataset/versions/1', content='Climate datasets can be used by researchers, governments, businesses, and other organizations to better understand and plan for the impacts of climate change.')], 'status': ['Gathered Kaggle urls', 'Extracted Kaggle urls', 'Downloaded Kaggle bundles'], 'kaggle_urls': ['https://www.kaggle.com/datasets/bhadramohit/climate-change-dataset', 'https://www.kaggle.com/datasets/waqi786/climate-change-impact-on-agriculture', 'https://www.kaggle.com/datasets/atifmasih/climate-change-dataset2020-2024', 'https://www.kaggle.com/datasets/bhadramohit/climate-change-dataset/code', 'https://www.kaggle.com/datasets/aloktantrik/agricultural-productivity-and-environmental-impact', 'https://www.kaggle.com/datasets/samithsachidanandan/average-monthly-surface-temperature-1940-2024', 'https://www.kaggle.com/datasets/fringewidth/climate-change-news/data', 'https://www.kaggle.com/datasets/pratyushpuri/global-climate-action-social-media-trends-2024-25', 'https://www.kaggle.com/datasets/goyaladi/climate-insights-dataset/data', 'https://www.kaggle.com/datasets/heemalichaudhari/environment-climate-dataset/versions/1'], 'download_results': [DownloadedDataset(provider='kaggle', source_url='https://www.kaggle.com/datasets/bhadramohit/climate-change-dataset', source_id='bhadramohit/climate-change-dataset', display_name='climate-change-dataset', dest_dir='/Users/riyanshibohra/Documents/GitHub/Nexora/data/kaggle/bhadramohit__climate-change-dataset', files=[FileRecord(path='/Users/riyanshibohra/Documents/GitHub/Nexora/data/kaggle/bhadramohit__climate-change-dataset/climate_change_dataset.csv', rel_path='climate_change_dataset.csv', ext='.csv', size_bytes=53208)], meta={'owner': 'bhadramohit', 'num_files': 1}), DownloadedDataset(provider='kaggle', source_url='https://www.kaggle.com/datasets/waqi786/climate-change-impact-on-agriculture', source_id='waqi786/climate-change-impact-on-agriculture', display_name='climate-change-impact-on-agriculture', dest_dir='/Users/riyanshibohra/Documents/GitHub/Nexora/data/kaggle/waqi786__climate-change-impact-on-agriculture', files=[FileRecord(path='/Users/riyanshibohra/Documents/GitHub/Nexora/data/kaggle/waqi786__climate-change-impact-on-agriculture/climate_change_impact_on_agriculture_2024.csv', rel_path='climate_change_impact_on_agriculture_2024.csv', ext='.csv', size_bytes=1055618)], meta={'owner': 'waqi786', 'num_files': 1}), DownloadedDataset(provider='kaggle', source_url='https://www.kaggle.com/datasets/atifmasih/climate-change-dataset2020-2024', source_id='atifmasih/climate-change-dataset2020-2024', display_name='climate-change-dataset2020-2024', dest_dir='/Users/riyanshibohra/Documents/GitHub/Nexora/data/kaggle/atifmasih__climate-change-dataset2020-2024', files=[FileRecord(path='/Users/riyanshibohra/Documents/GitHub/Nexora/data/kaggle/atifmasih__climate-change-dataset2020-2024/climate_change_dataset.csv', rel_path='climate_change_dataset.csv', ext='.csv', size_bytes=14606)], meta={'owner': 'atifmasih', 'num_files': 1}), DownloadedDataset(provider='kaggle', source_url='https://www.kaggle.com/datasets/bhadramohit/climate-change-dataset/code', source_id='bhadramohit/climate-change-dataset', display_name='climate-change-dataset', dest_dir='/Users/riyanshibohra/Documents/GitHub/Nexora/data/kaggle/bhadramohit__climate-change-dataset', files=[FileRecord(path='/Users/riyanshibohra/Documents/GitHub/Nexora/data/kaggle/bhadramohit__climate-change-dataset/climate_change_dataset.csv', rel_path='climate_change_dataset.csv', ext='.csv', size_bytes=53208)], meta={'owner': 'bhadramohit', 'num_files': 1}), DownloadedDataset(provider='kaggle', source_url='https://www.kaggle.com/datasets/aloktantrik/agricultural-productivity-and-environmental-impact', source_id='aloktantrik/agricultural-productivity-and-environmental-impact', display_name='agricultural-productivity-and-environmental-impact', dest_dir='/Users/riyanshibohra/Documents/GitHub/Nexora/data/kaggle/aloktantrik__agricultural-productivity-and-environmental-impact', files=[FileRecord(path='/Users/riyanshibohra/Documents/GitHub/Nexora/data/kaggle/aloktantrik__agricultural-productivity-and-environmental-impact/Copy of data2(1).xlsx', rel_path='Copy of data2(1).xlsx', ext='.xlsx', size_bytes=70128)], meta={'owner': 'aloktantrik', 'num_files': 1}), DownloadedDataset(provider='kaggle', source_url='https://www.kaggle.com/datasets/samithsachidanandan/average-monthly-surface-temperature-1940-2024', source_id='samithsachidanandan/average-monthly-surface-temperature-1940-2024', display_name='average-monthly-surface-temperature-1940-2024', dest_dir='/Users/riyanshibohra/Documents/GitHub/Nexora/data/kaggle/samithsachidanandan__average-monthly-surface-temperature-1940-2024', files=[FileRecord(path='/Users/riyanshibohra/Documents/GitHub/Nexora/data/kaggle/samithsachidanandan__average-monthly-surface-temperature-1940-2024/average-monthly-surface-temperature.csv', rel_path='average-monthly-surface-temperature.csv', ext='.csv', size_bytes=9879322)], meta={'owner': 'samithsachidanandan', 'num_files': 1}), DownloadedDataset(provider='kaggle', source_url='https://www.kaggle.com/datasets/fringewidth/climate-change-news/data', source_id='fringewidth/climate-change-news', display_name='climate-change-news', dest_dir='/Users/riyanshibohra/Documents/GitHub/Nexora/data/kaggle/fringewidth__climate-change-news', files=[FileRecord(path='/Users/riyanshibohra/Documents/GitHub/Nexora/data/kaggle/fringewidth__climate-change-news/climate_headlines_sentiment.csv', rel_path='climate_headlines_sentiment.csv', ext='.csv', size_bytes=452393)], meta={'owner': 'fringewidth', 'num_files': 1}), DownloadedDataset(provider='kaggle', source_url='https://www.kaggle.com/datasets/pratyushpuri/global-climate-action-social-media-trends-2024-25', source_id='pratyushpuri/global-climate-action-social-media-trends-2024-25', display_name='global-climate-action-social-media-trends-2024-25', dest_dir='/Users/riyanshibohra/Documents/GitHub/Nexora/data/kaggle/pratyushpuri__global-climate-action-social-media-trends-2024-25', files=[FileRecord(path='/Users/riyanshibohra/Documents/GitHub/Nexora/data/kaggle/pratyushpuri__global-climate-action-social-media-trends-2024-25/sustainability_social_media_posts.csv', rel_path='sustainability_social_media_posts.csv', ext='.csv', size_bytes=1184709)], meta={'owner': 'pratyushpuri', 'num_files': 1}), DownloadedDataset(provider='kaggle', source_url='https://www.kaggle.com/datasets/goyaladi/climate-insights-dataset/data', source_id='goyaladi/climate-insights-dataset', display_name='climate-insights-dataset', dest_dir='/Users/riyanshibohra/Documents/GitHub/Nexora/data/kaggle/goyaladi__climate-insights-dataset', files=[FileRecord(path='/Users/riyanshibohra/Documents/GitHub/Nexora/data/kaggle/goyaladi__climate-insights-dataset/climate_change_data.csv', rel_path='climate_change_data.csv', ext='.csv', size_bytes=1669507), FileRecord(path='/Users/riyanshibohra/Documents/GitHub/Nexora/data/kaggle/goyaladi__climate-insights-dataset/Readme.md', rel_path='Readme.md', ext='.md', size_bytes=2691)], meta={'owner': 'goyaladi', 'num_files': 2}), DownloadedDataset(provider='kaggle', source_url='https://www.kaggle.com/datasets/heemalichaudhari/environment-climate-dataset/versions/1', source_id='heemalichaudhari/environment-climate-dataset', display_name='environment-climate-dataset', dest_dir='/Users/riyanshibohra/Documents/GitHub/Nexora/data/kaggle/heemalichaudhari__environment-climate-dataset', files=[FileRecord(path='/Users/riyanshibohra/Documents/GitHub/Nexora/data/kaggle/heemalichaudhari__environment-climate-dataset/environmentdata-government-climate-datasets/Gov. Climate Datasets (Archive) - List.csv', rel_path='environmentdata-government-climate-datasets/Gov. Climate Datasets (Archive) - List.csv', ext='.csv', size_bytes=11696), FileRecord(path='/Users/riyanshibohra/Documents/GitHub/Nexora/data/kaggle/heemalichaudhari__environment-climate-dataset/environmentdata-government-climate-datasets/Gov_Climate_Datasets_Archive.csv', rel_path='environmentdata-government-climate-datasets/Gov_Climate_Datasets_Archive.csv', ext='.csv', size_bytes=18297)], meta={'owner': 'heemalichaudhari', 'num_files': 2})]}}\n"
     ]
    }
   ],
   "source": [
    "for event in final_graph.stream(state):\n",
    "    print(event)"
   ]
  },
  {
   "cell_type": "code",
   "execution_count": null,
   "id": "bed19f1b",
   "metadata": {},
   "outputs": [],
   "source": []
  },
  {
   "cell_type": "code",
   "execution_count": null,
   "id": "980f293b",
   "metadata": {},
   "outputs": [],
   "source": []
  }
 ],
 "metadata": {
  "kernelspec": {
   "display_name": "venv",
   "language": "python",
   "name": "python3"
  },
  "language_info": {
   "codemirror_mode": {
    "name": "ipython",
    "version": 3
   },
   "file_extension": ".py",
   "mimetype": "text/x-python",
   "name": "python",
   "nbconvert_exporter": "python",
   "pygments_lexer": "ipython3",
   "version": "3.12.0"
  }
 },
 "nbformat": 4,
 "nbformat_minor": 5
}
